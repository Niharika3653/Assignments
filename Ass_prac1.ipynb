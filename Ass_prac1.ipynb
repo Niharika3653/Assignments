{
 "cells": [
  {
   "cell_type": "markdown",
   "id": "a58fdb39",
   "metadata": {},
   "source": [
    "### Find sum of element wise difference between two lists using Python¶"
   ]
  },
  {
   "cell_type": "code",
   "execution_count": 11,
   "id": "4a0cfcaa",
   "metadata": {},
   "outputs": [
    {
     "name": "stdout",
     "output_type": "stream",
     "text": [
      "[1, 8, 2, 2, 1, 4, 3, 2]\n",
      "23\n"
     ]
    }
   ],
   "source": [
    "list1 = [5,12,5,6,2,6,7,8] \n",
    "list2 = [6,4,3,8,1,2,4,6]\n",
    "difference=[]\n",
    "for i ,j in zip(list1,list2):\n",
    "        if i<j:\n",
    "            difference.append(j-i)\n",
    "        elif i>j:\n",
    "            difference.append(i-j)\n",
    "print(difference)\n",
    "l=difference\n",
    "add=0\n",
    "for k in l:\n",
    "    add+=k\n",
    "print(add)\n"
   ]
  },
  {
   "cell_type": "code",
   "execution_count": 12,
   "id": "1b403194",
   "metadata": {},
   "outputs": [
    {
     "name": "stdout",
     "output_type": "stream",
     "text": [
      "[1, 8, 2, 2, 1, 4, 3, 2]\n"
     ]
    },
    {
     "data": {
      "text/plain": [
       "23"
      ]
     },
     "execution_count": 12,
     "metadata": {},
     "output_type": "execute_result"
    }
   ],
   "source": [
    "list1 = [5,12,5,6,2,6,7,8] \n",
    "list2 = [6,4,3,8,1,2,4,6]\n",
    "difference=[]\n",
    "for i ,j in zip(list1,list2):\n",
    "        if i<j:\n",
    "            difference.append(j-i)\n",
    "        elif i>j:\n",
    "            difference.append(i-j)\n",
    "print(difference)\n",
    "sum(difference)"
   ]
  },
  {
   "cell_type": "markdown",
   "id": "5b7083cf",
   "metadata": {},
   "source": [
    "### Create a Function which can take any number of numerical arguments, calculate Arithmetic Mean, Geometric Mean and Harmonic Mean"
   ]
  },
  {
   "cell_type": "code",
   "execution_count": 34,
   "id": "fc5b9532",
   "metadata": {},
   "outputs": [],
   "source": [
    "def func(*n):\n",
    "    Arthemetic_mean=sum(n)/len(n)\n",
    "    print(\"Am\",Arthemetic_mean)\n",
    "    x=1\n",
    "    y=0\n",
    "    for i in n:\n",
    "        x*=i\n",
    "        y+=1/i\n",
    "    Geometric_mean=x**(1/len(n))\n",
    "    print(\"gm\",Geometric_mean)\n",
    "    y+=1/i\n",
    "    Harmonic_mean=len(n)/y\n",
    "    print(\"Hm -\",Harmonic_mean)\n",
    "    \n",
    "    \n",
    "    "
   ]
  },
  {
   "cell_type": "code",
   "execution_count": 35,
   "id": "ee53aa53",
   "metadata": {},
   "outputs": [
    {
     "name": "stdout",
     "output_type": "stream",
     "text": [
      "Am 23.0\n",
      "gm 22.956422674338096\n",
      "Hm - 19.363444528268882\n"
     ]
    }
   ],
   "source": [
    "func(21,22,23,24,25)"
   ]
  },
  {
   "cell_type": "code",
   "execution_count": 4,
   "id": "4ad0b33c",
   "metadata": {},
   "outputs": [],
   "source": [
    "def func(*n):\n",
    "    Arthemetic_mean=sum(n)/len(n)\n",
    "    print(\"Am\",Arthemetic_mean)\n",
    "    x=1\n",
    "    y=0\n",
    "    for i in n:\n",
    "        x*=i\n",
    "        y+=1/i\n",
    "    Geometric_mean=x**(1/len(n))\n",
    "    print(\"gm\",Geometric_mean)\n",
    "    try:\n",
    "        y+=1/i\n",
    "        Harmonic_mean=len(n)/y\n",
    "        print(\"Hm -\",Harmonic_mean)\n",
    "    except:\n",
    "        print(\"excpetion handling\")\n",
    "    "
   ]
  },
  {
   "cell_type": "code",
   "execution_count": 5,
   "id": "36da7baa",
   "metadata": {},
   "outputs": [
    {
     "name": "stdout",
     "output_type": "stream",
     "text": [
      "Am 23.0\n",
      "gm 22.956422674338096\n",
      "Hm - 19.363444528268882\n"
     ]
    }
   ],
   "source": [
    "func(21,22,23,24,25)"
   ]
  },
  {
   "cell_type": "markdown",
   "id": "e22b8cb4",
   "metadata": {},
   "source": [
    "### Create a Function, which takes three arguments, first argument should be dictionary, second argument should be integer, third argument should be another dictionary.\n",
    "### Based on the integer value (consider this as index, which starts at 0), insert new dictionary values at index position in first dictionary, and return new dictionary."
   ]
  },
  {
   "cell_type": "code",
   "execution_count": 35,
   "id": "37f38e8d",
   "metadata": {},
   "outputs": [
    {
     "name": "stdout",
     "output_type": "stream",
     "text": [
      "enter a number3\n"
     ]
    }
   ],
   "source": [
    "p={'a':24,'b':30,'c':23}\n",
    "q=int(input(\"enter a number\"))\n",
    "r={1:'red',2:'blue',3:'brown'}\n",
    "def argument(p,q,r):\n",
    "    k=0\n",
    "    x={}\n",
    "    if q<len(p):\n",
    "        for i in list(p.keys()):\n",
    "            if q==k:\n",
    "                x.update(r)\n",
    "            x[i]=p[i]\n",
    "            k+=1\n",
    "        print(x)\n",
    "    else:\n",
    "        p.update(r)\n",
    "        print(p)"
   ]
  },
  {
   "cell_type": "code",
   "execution_count": 36,
   "id": "4b078d17",
   "metadata": {},
   "outputs": [
    {
     "name": "stdout",
     "output_type": "stream",
     "text": [
      "{'a': 24, 'b': 30, 'c': 23, 1: 'red', 2: 'blue', 3: 'brown'}\n"
     ]
    }
   ],
   "source": [
    "argument(p,q,r)"
   ]
  },
  {
   "cell_type": "markdown",
   "id": "e95df63a",
   "metadata": {},
   "source": [
    "### Create a Function which takes two lists as parameters, check whether two lists of same length, if not same length return not same lenght. otherwise sort the first list in ascending order and also sort the second list in liue of list "
   ]
  },
  {
   "cell_type": "code",
   "execution_count": 7,
   "id": "3d1d58f5",
   "metadata": {},
   "outputs": [],
   "source": [
    "def sort(l1,l2):\n",
    "    if len(l1)!=len(l2):\n",
    "        print(\"not in same length\")\n",
    "    else:\n",
    "        x=list(l1)\n",
    "        x.sort()\n",
    "        print(x)\n",
    "        y=[]\n",
    "        for i in x:\n",
    "            for j in range(0,len(l2)):\n",
    "                if l1[j]==i:\n",
    "                    y.append(l2[j])\n",
    "        print(y)"
   ]
  },
  {
   "cell_type": "code",
   "execution_count": 8,
   "id": "08c9a874",
   "metadata": {},
   "outputs": [],
   "source": [
    "l1=[6,10,2,13,45,67,32,1] \n",
    "l2=[8,3,9,12,54,322,98,54]"
   ]
  },
  {
   "cell_type": "code",
   "execution_count": 9,
   "id": "4babb3bc",
   "metadata": {},
   "outputs": [
    {
     "name": "stdout",
     "output_type": "stream",
     "text": [
      "[1, 2, 6, 10, 13, 32, 45, 67]\n",
      "[54, 9, 8, 3, 12, 98, 54, 322]\n"
     ]
    }
   ],
   "source": [
    "sort(l1,l2)"
   ]
  },
  {
   "cell_type": "markdown",
   "id": "731a6d49",
   "metadata": {},
   "source": [
    "### create a function, which takes string as argument, create all combinations"
   ]
  },
  {
   "cell_type": "code",
   "execution_count": 10,
   "id": "6c7cd1b1",
   "metadata": {},
   "outputs": [],
   "source": [
    "#Ex: abcdefg\n",
    "#ans should be:\n",
    "#a, ab, abc, abcd, abcde, abcdef, abcdefg,\n",
    " #b, bc, bcd, bcde, bcdef, bcdefg,\n",
    "# c, cd, cde, cdef, cdefg, \n",
    "#d, de, def, defg, \n",
    "#e, ef, efg,\n",
    " #f, fg\n",
    " #g"
   ]
  },
  {
   "cell_type": "code",
   "execution_count": 1,
   "id": "16acd303",
   "metadata": {},
   "outputs": [],
   "source": [
    "s= \"abcdefg\"\n",
    "def func2(s):\n",
    "    for start in range(len(s)):\n",
    "        for stop in range(start,len(s)):\n",
    "            print(s[start:stop+1],end=\"\\n\")\n",
    "            "
   ]
  },
  {
   "cell_type": "code",
   "execution_count": 2,
   "id": "a3714031",
   "metadata": {},
   "outputs": [
    {
     "name": "stdout",
     "output_type": "stream",
     "text": [
      "a\n",
      "ab\n",
      "abc\n",
      "abcd\n",
      "abcde\n",
      "abcdef\n",
      "abcdefg\n",
      "b\n",
      "bc\n",
      "bcd\n",
      "bcde\n",
      "bcdef\n",
      "bcdefg\n",
      "c\n",
      "cd\n",
      "cde\n",
      "cdef\n",
      "cdefg\n",
      "d\n",
      "de\n",
      "def\n",
      "defg\n",
      "e\n",
      "ef\n",
      "efg\n",
      "f\n",
      "fg\n",
      "g\n"
     ]
    }
   ],
   "source": [
    "func2(s)"
   ]
  },
  {
   "cell_type": "markdown",
   "id": "a82ddad1",
   "metadata": {},
   "source": [
    "### Write a Python function that generates all possible subsets of a given list recursively. For example, if the input list is [1, 2, 3], the output should be [], [1], [2], [3], [1, 2], [1, 3], [2, 3], [1, 2, 3].\n"
   ]
  },
  {
   "cell_type": "code",
   "execution_count": 61,
   "id": "2d144618",
   "metadata": {},
   "outputs": [],
   "source": [
    "def subset(l):\n",
    "    if l == []:\n",
    "        return [[]]\n",
    "    else:\n",
    "        x = subs(l[1:])\n",
    "        return x + [[l[0]] + y for y in x]"
   ]
  },
  {
   "cell_type": "code",
   "execution_count": 62,
   "id": "f61e4d27",
   "metadata": {},
   "outputs": [
    {
     "name": "stdout",
     "output_type": "stream",
     "text": [
      "[[], [4], [3], [3, 4], [2], [2, 4], [2, 3], [2, 3, 4], [1], [1, 4], [1, 3], [1, 3, 4], [1, 2], [1, 2, 4], [1, 2, 3], [1, 2, 3, 4]]\n"
     ]
    }
   ],
   "source": [
    "l1=[1,2,3,4]\n",
    "k=subset(l1)\n",
    "print(k)"
   ]
  },
  {
   "cell_type": "markdown",
   "id": "490368f4",
   "metadata": {},
   "source": [
    "### Create class statistics and create all functions given a list of numbers. Functions should include min, max, range, sum, mean ,median, mean absolute deviation, Variance, Standard deviation, skewness, kurtosis, z score of each data point, Given two lists calculate covariance and correlation"
   ]
  },
  {
   "cell_type": "code",
   "execution_count": 169,
   "id": "cd5f96dc",
   "metadata": {},
   "outputs": [],
   "source": [
    "class statistics:\n",
    "    def __init__(self,*args):\n",
    "        self.args=args\n",
    "        \n",
    "    def sums(self):\n",
    "        s=sum(self.args)\n",
    "        print(s)\n",
    "        \n",
    "    def mean(self):\n",
    "        y=sum(self.args)/len(self.args)\n",
    "        print(y)\n",
    "        \n",
    "    def mins(self):\n",
    "        x=min(self.args)\n",
    "        print(x)\n",
    "        \n",
    "    def maxs(self):\n",
    "        z=max(self.args)\n",
    "        print(z)\n",
    "        \n",
    "    def ranges(self):\n",
    "        p=max(self.args)-min(self.args)\n",
    "        print(p)\n",
    "        \n",
    "    def mad(self):\n",
    "        q=sum(self.args)/len(self.args)\n",
    "        s=0\n",
    "        for i in self.args:\n",
    "            s+=abs(i-q)\n",
    "        mad=s/len(self.args)\n",
    "        print(mad)\n",
    "        \n",
    "    def std_dev(self):\n",
    "        r=sum(self.args)/len(self.args)\n",
    "        s=0\n",
    "        for i in self.args:\n",
    "            s+=(i-r)**2\n",
    "        std_dev=(s/len(self.args))**0.5    \n",
    "        print(std_dev)\n",
    "        \n",
    "    def population_variance(self):\n",
    "        m=sum(self.args)/len(self.args)\n",
    "        s=0\n",
    "        for i in self.args:\n",
    "            s+=(i-m)**2\n",
    "        population_variance=s/len(self.args)\n",
    "        print( population_variance)\n",
    "        \n",
    "    def sample_variance(self):\n",
    "        n= sum(self.args)/len(self.args)\n",
    "        s=0\n",
    "        for i in self.args:\n",
    "            s+=(i-n)**2\n",
    "        sample_variance=s/(len(self.args)-1)\n",
    "        print(sample_variance)\n",
    "        \n",
    "    def moment(self):\n",
    "        d= sum(self.args)/len(self.args)\n",
    "        s=0\n",
    "        for i in self.args:\n",
    "            s+=(i-d)**4\n",
    "        moment=s/len(self.args)\n",
    "        print(moment)\n",
    "        \n",
    "    def skewness(self):\n",
    "        e= sum(self.args)/len(self.args)\n",
    "        s=0\n",
    "        for i in self.args:\n",
    "             s+=(i-e)**3\n",
    "        skewness=s/len(self.args)\n",
    "        print(skewness)\n",
    "        \n",
    "    def kurtosis(self):\n",
    "        f=sum(self.args)/len(self.args)\n",
    "        s=0\n",
    "        g=0\n",
    "        for i in self.args:\n",
    "            s+=(i-f)**4\n",
    "            g+=((i-f)**2)\n",
    "        kurtosis=((s/len(self.args)))/((g/len(self.args)))**2\n",
    "        print(kurtosis) \n",
    "        \n",
    "    def cov_value(self,x,y):\n",
    "        self.x=x\n",
    "        self.y=y\n",
    "        \n",
    "        mean_x = sum(x) / (len(x))\n",
    "        mean_y = sum(y) / (len(y))\n",
    "\n",
    "        x1 = [i - mean_x for i in x]\n",
    "        y1 = [i - mean_y for i in y]\n",
    "\n",
    "        value = sum([x1[i] * y1[i] for i in range(len(x))])\n",
    "        var = (len(x))\n",
    "\n",
    "        cov = value/var\n",
    "        print(cov)\n",
    "        \n",
    "        \n",
    "    def correlation(self,x,y):\n",
    "        self.x=x\n",
    "        self.y=y\n",
    "        \n",
    "        mean_x = sum(x) / (len(x))\n",
    "        mean_y = sum(y) / (len(y))\n",
    "\n",
    "        x1 = [i - mean_x for i in x]\n",
    "        y1 = [i - mean_y for i in y]\n",
    "\n",
    "        value = sum([x1[i] * y1[i] for i in range(len(x))])\n",
    "        for i in range(len(x)):\n",
    "            a=(x[i]-mean_x)**2\n",
    "            b=(y[i]-mean_y)**2\n",
    "            \n",
    "        correlation=(value)/((a*0.5)*(b*0.5))\n",
    "        print(correlation)\n",
    "        \n",
    "    def z_score(self):\n",
    "       \n",
    "        z_score=[]\n",
    "        \n",
    "        r=sum(self.args)/len(self.args)\n",
    "        s=0\n",
    "        for i in self.args:\n",
    "            s+=(i-r)**2\n",
    "        std_dev=(s/len(self.args))**0.5  \n",
    "        \n",
    "        for i in self.args:\n",
    "            k=(i-r)/std_dev \n",
    "            z_score.append(k)\n",
    "        print(z_score)\n",
    "        \n",
    "        \n",
    "        \n",
    "\n",
    "            \n",
    "            \n",
    "        \n",
    "            "
   ]
  },
  {
   "cell_type": "code",
   "execution_count": 170,
   "id": "21337087",
   "metadata": {},
   "outputs": [],
   "source": [
    "p1=statistics(1,8,9,4,5,10)"
   ]
  },
  {
   "cell_type": "code",
   "execution_count": 171,
   "id": "8d87f591",
   "metadata": {},
   "outputs": [
    {
     "name": "stdout",
     "output_type": "stream",
     "text": [
      "37\n"
     ]
    }
   ],
   "source": [
    "p1.sums()"
   ]
  },
  {
   "cell_type": "code",
   "execution_count": 172,
   "id": "c6f23517",
   "metadata": {},
   "outputs": [
    {
     "name": "stdout",
     "output_type": "stream",
     "text": [
      "1\n"
     ]
    }
   ],
   "source": [
    "p1.mins()"
   ]
  },
  {
   "cell_type": "code",
   "execution_count": 173,
   "id": "60c59392",
   "metadata": {},
   "outputs": [
    {
     "name": "stdout",
     "output_type": "stream",
     "text": [
      "10\n"
     ]
    }
   ],
   "source": [
    "p1.maxs()"
   ]
  },
  {
   "cell_type": "code",
   "execution_count": 174,
   "id": "dad80c29",
   "metadata": {},
   "outputs": [
    {
     "name": "stdout",
     "output_type": "stream",
     "text": [
      "9\n"
     ]
    }
   ],
   "source": [
    "p1.ranges()"
   ]
  },
  {
   "cell_type": "code",
   "execution_count": 175,
   "id": "ddd27c09",
   "metadata": {},
   "outputs": [
    {
     "name": "stdout",
     "output_type": "stream",
     "text": [
      "6.166666666666667\n"
     ]
    }
   ],
   "source": [
    "p1.mean()"
   ]
  },
  {
   "cell_type": "code",
   "execution_count": 176,
   "id": "0d0ee168",
   "metadata": {},
   "outputs": [
    {
     "name": "stdout",
     "output_type": "stream",
     "text": [
      "2.8333333333333335\n"
     ]
    }
   ],
   "source": [
    "p1.mad()"
   ]
  },
  {
   "cell_type": "code",
   "execution_count": 177,
   "id": "b485d5a4",
   "metadata": {},
   "outputs": [
    {
     "name": "stdout",
     "output_type": "stream",
     "text": [
      "3.131382371342656\n"
     ]
    }
   ],
   "source": [
    "p1.std_dev()"
   ]
  },
  {
   "cell_type": "code",
   "execution_count": 178,
   "id": "c9d4e66c",
   "metadata": {},
   "outputs": [
    {
     "name": "stdout",
     "output_type": "stream",
     "text": [
      "9.805555555555555\n"
     ]
    }
   ],
   "source": [
    "p1.population_variance()"
   ]
  },
  {
   "cell_type": "code",
   "execution_count": 179,
   "id": "a9167aaa",
   "metadata": {},
   "outputs": [
    {
     "name": "stdout",
     "output_type": "stream",
     "text": [
      "11.766666666666667\n"
     ]
    }
   ],
   "source": [
    "p1.sample_variance()"
   ]
  },
  {
   "cell_type": "code",
   "execution_count": 180,
   "id": "dbd635c5",
   "metadata": {},
   "outputs": [
    {
     "name": "stdout",
     "output_type": "stream",
     "text": [
      "171.3587962962963\n"
     ]
    }
   ],
   "source": [
    "p1.moment()"
   ]
  },
  {
   "cell_type": "code",
   "execution_count": 181,
   "id": "54ca1872",
   "metadata": {},
   "outputs": [
    {
     "name": "stdout",
     "output_type": "stream",
     "text": [
      "-10.740740740740753\n"
     ]
    }
   ],
   "source": [
    "p1.skewness()"
   ]
  },
  {
   "cell_type": "code",
   "execution_count": 182,
   "id": "e4ec35cb",
   "metadata": {},
   "outputs": [
    {
     "name": "stdout",
     "output_type": "stream",
     "text": [
      "1.7822227928961794\n"
     ]
    }
   ],
   "source": [
    "p1.kurtosis()"
   ]
  },
  {
   "cell_type": "code",
   "execution_count": 183,
   "id": "8e069e41",
   "metadata": {},
   "outputs": [
    {
     "name": "stdout",
     "output_type": "stream",
     "text": [
      "45.42857142857143\n"
     ]
    }
   ],
   "source": [
    "p1.cov_value((5,8,15,13,7,18,25),(2,6,3,8,12,14,30))"
   ]
  },
  {
   "cell_type": "code",
   "execution_count": 184,
   "id": "d3f034ad",
   "metadata": {},
   "outputs": [
    {
     "name": "stdout",
     "output_type": "stream",
     "text": [
      "3.6734693877551012\n"
     ]
    }
   ],
   "source": [
    "p1.correlation((1,4,6),(1,2,3))"
   ]
  },
  {
   "cell_type": "code",
   "execution_count": 185,
   "id": "f5306ea7",
   "metadata": {},
   "outputs": [],
   "source": [
    "p2=statistics(50,55,60,65,70,100,1000)"
   ]
  },
  {
   "cell_type": "code",
   "execution_count": 153,
   "id": "88acc01b",
   "metadata": {},
   "outputs": [
    {
     "name": "stdout",
     "output_type": "stream",
     "text": [
      "[-0.4587931407588288, -0.44350003606686783, -0.4282069313749069, -0.41291382668294596, -0.39762072199098497, -0.3058620938392192, 2.4468967507137536]\n"
     ]
    }
   ],
   "source": [
    "p2.z_score()"
   ]
  },
  {
   "cell_type": "code",
   "execution_count": null,
   "id": "384d9364",
   "metadata": {},
   "outputs": [],
   "source": []
  },
  {
   "cell_type": "code",
   "execution_count": null,
   "id": "1f1150a1",
   "metadata": {},
   "outputs": [],
   "source": []
  },
  {
   "cell_type": "code",
   "execution_count": null,
   "id": "c6ed31a9",
   "metadata": {},
   "outputs": [],
   "source": []
  },
  {
   "cell_type": "code",
   "execution_count": null,
   "id": "d70523a3",
   "metadata": {},
   "outputs": [],
   "source": []
  },
  {
   "cell_type": "code",
   "execution_count": null,
   "id": "f41293c6",
   "metadata": {},
   "outputs": [],
   "source": []
  },
  {
   "cell_type": "code",
   "execution_count": null,
   "id": "eba377b1",
   "metadata": {},
   "outputs": [],
   "source": []
  },
  {
   "cell_type": "code",
   "execution_count": null,
   "id": "2509968c",
   "metadata": {},
   "outputs": [],
   "source": []
  },
  {
   "cell_type": "code",
   "execution_count": null,
   "id": "552a0f4e",
   "metadata": {},
   "outputs": [],
   "source": []
  },
  {
   "cell_type": "code",
   "execution_count": null,
   "id": "7d04148f",
   "metadata": {},
   "outputs": [],
   "source": []
  },
  {
   "cell_type": "code",
   "execution_count": null,
   "id": "0474536d",
   "metadata": {},
   "outputs": [],
   "source": []
  },
  {
   "cell_type": "code",
   "execution_count": null,
   "id": "6563bc7a",
   "metadata": {},
   "outputs": [],
   "source": []
  },
  {
   "cell_type": "code",
   "execution_count": null,
   "id": "f8491f5a",
   "metadata": {},
   "outputs": [],
   "source": []
  },
  {
   "cell_type": "code",
   "execution_count": null,
   "id": "d56bc8f6",
   "metadata": {},
   "outputs": [],
   "source": []
  },
  {
   "cell_type": "code",
   "execution_count": null,
   "id": "d74eb66c",
   "metadata": {},
   "outputs": [],
   "source": []
  },
  {
   "cell_type": "code",
   "execution_count": null,
   "id": "ff84aa59",
   "metadata": {},
   "outputs": [],
   "source": []
  },
  {
   "cell_type": "code",
   "execution_count": null,
   "id": "008e7e5e",
   "metadata": {},
   "outputs": [],
   "source": []
  },
  {
   "cell_type": "code",
   "execution_count": null,
   "id": "cff11eea",
   "metadata": {},
   "outputs": [],
   "source": []
  },
  {
   "cell_type": "code",
   "execution_count": null,
   "id": "5eca9680",
   "metadata": {},
   "outputs": [],
   "source": []
  },
  {
   "cell_type": "code",
   "execution_count": null,
   "id": "a3c3deb3",
   "metadata": {},
   "outputs": [],
   "source": []
  },
  {
   "cell_type": "code",
   "execution_count": null,
   "id": "b753e3d6",
   "metadata": {},
   "outputs": [],
   "source": []
  },
  {
   "cell_type": "code",
   "execution_count": null,
   "id": "c599da50",
   "metadata": {},
   "outputs": [],
   "source": []
  },
  {
   "cell_type": "code",
   "execution_count": null,
   "id": "b483f1e8",
   "metadata": {},
   "outputs": [],
   "source": []
  },
  {
   "cell_type": "code",
   "execution_count": null,
   "id": "5c8997da",
   "metadata": {},
   "outputs": [],
   "source": []
  },
  {
   "cell_type": "code",
   "execution_count": null,
   "id": "cca5ee2d",
   "metadata": {},
   "outputs": [],
   "source": []
  },
  {
   "cell_type": "code",
   "execution_count": null,
   "id": "813ec94b",
   "metadata": {},
   "outputs": [],
   "source": []
  },
  {
   "cell_type": "code",
   "execution_count": null,
   "id": "963f8c0d",
   "metadata": {},
   "outputs": [],
   "source": []
  },
  {
   "cell_type": "code",
   "execution_count": null,
   "id": "dcde351e",
   "metadata": {},
   "outputs": [],
   "source": []
  },
  {
   "cell_type": "code",
   "execution_count": null,
   "id": "64409859",
   "metadata": {},
   "outputs": [],
   "source": []
  },
  {
   "cell_type": "code",
   "execution_count": null,
   "id": "c5c0270a",
   "metadata": {},
   "outputs": [],
   "source": []
  },
  {
   "cell_type": "code",
   "execution_count": null,
   "id": "1cc3daf9",
   "metadata": {},
   "outputs": [],
   "source": []
  },
  {
   "cell_type": "code",
   "execution_count": null,
   "id": "dfc3c67e",
   "metadata": {},
   "outputs": [],
   "source": []
  },
  {
   "cell_type": "code",
   "execution_count": null,
   "id": "fcb646d4",
   "metadata": {},
   "outputs": [],
   "source": []
  },
  {
   "cell_type": "code",
   "execution_count": null,
   "id": "c36132a5",
   "metadata": {},
   "outputs": [],
   "source": []
  },
  {
   "cell_type": "code",
   "execution_count": null,
   "id": "4f0cfe4c",
   "metadata": {},
   "outputs": [],
   "source": []
  }
 ],
 "metadata": {
  "kernelspec": {
   "display_name": "Python 3 (ipykernel)",
   "language": "python",
   "name": "python3"
  },
  "language_info": {
   "codemirror_mode": {
    "name": "ipython",
    "version": 3
   },
   "file_extension": ".py",
   "mimetype": "text/x-python",
   "name": "python",
   "nbconvert_exporter": "python",
   "pygments_lexer": "ipython3",
   "version": "3.9.13"
  }
 },
 "nbformat": 4,
 "nbformat_minor": 5
}
